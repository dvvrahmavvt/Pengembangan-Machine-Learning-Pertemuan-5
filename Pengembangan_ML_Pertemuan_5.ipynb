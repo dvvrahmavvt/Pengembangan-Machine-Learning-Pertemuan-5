{
  "nbformat": 4,
  "nbformat_minor": 0,
  "metadata": {
    "colab": {
      "provenance": []
    },
    "kernelspec": {
      "name": "python3",
      "display_name": "Python 3"
    },
    "language_info": {
      "name": "python"
    }
  },
  "cells": [
    {
      "cell_type": "code",
      "execution_count": 2,
      "metadata": {
        "colab": {
          "base_uri": "https://localhost:8080/"
        },
        "id": "G5gIKeJo4IAw",
        "outputId": "c6f6b12f-2f77-4aa1-e538-356035d25080"
      },
      "outputs": [
        {
          "output_type": "stream",
          "name": "stdout",
          "text": [
            "Mounted at /content/drive\n"
          ]
        }
      ],
      "source": [
        "from google.colab import drive\n",
        "drive.mount('/content/drive')"
      ]
    },
    {
      "cell_type": "code",
      "source": [
        "!mkdir Pengembangan_Machine_Learning5"
      ],
      "metadata": {
        "id": "BN3A3kPM5zAD"
      },
      "execution_count": 3,
      "outputs": []
    },
    {
      "cell_type": "code",
      "source": [
        "cd Pengembangan_Machine_Learning5"
      ],
      "metadata": {
        "colab": {
          "base_uri": "https://localhost:8080/"
        },
        "id": "0JonaPgq51cL",
        "outputId": "601a18de-1314-4bea-bc12-c50c067ab8fc"
      },
      "execution_count": 4,
      "outputs": [
        {
          "output_type": "stream",
          "name": "stdout",
          "text": [
            "/content/Pengembangan_Machine_Learning5\n"
          ]
        }
      ]
    },
    {
      "cell_type": "code",
      "source": [
        "!pwd"
      ],
      "metadata": {
        "colab": {
          "base_uri": "https://localhost:8080/"
        },
        "id": "BUwSMv2d533L",
        "outputId": "0d100904-cf1e-4b83-d918-90c5b182f24b"
      },
      "execution_count": 5,
      "outputs": [
        {
          "output_type": "stream",
          "name": "stdout",
          "text": [
            "/content/Pengembangan_Machine_Learning5\n"
          ]
        }
      ]
    },
    {
      "cell_type": "code",
      "source": [
        "%%writefile requirements.txt\n",
        "streamlit\n",
        "pandas\n",
        "numpy\n"
      ],
      "metadata": {
        "colab": {
          "base_uri": "https://localhost:8080/"
        },
        "id": "BVTj5AVi56Ay",
        "outputId": "84a41791-59b8-4de7-e9e7-53171f602715"
      },
      "execution_count": 6,
      "outputs": [
        {
          "output_type": "stream",
          "name": "stdout",
          "text": [
            "Writing requirements.txt\n"
          ]
        }
      ]
    },
    {
      "cell_type": "code",
      "source": [
        "!ls"
      ],
      "metadata": {
        "colab": {
          "base_uri": "https://localhost:8080/"
        },
        "id": "2U3XRVNv6FYU",
        "outputId": "2ec76f6b-36d6-43f5-9281-7c7e587d78ac"
      },
      "execution_count": 7,
      "outputs": [
        {
          "output_type": "stream",
          "name": "stdout",
          "text": [
            "requirements.txt\n"
          ]
        }
      ]
    },
    {
      "cell_type": "code",
      "source": [
        "!cat requirements.txt"
      ],
      "metadata": {
        "colab": {
          "base_uri": "https://localhost:8080/"
        },
        "id": "AjhruuQu6HOT",
        "outputId": "c7a55051-ef0f-469c-aefc-ee72c76d1bed"
      },
      "execution_count": 8,
      "outputs": [
        {
          "output_type": "stream",
          "name": "stdout",
          "text": [
            "streamlit\n",
            "pandas\n",
            "numpy\n"
          ]
        }
      ]
    },
    {
      "cell_type": "code",
      "source": [
        "!pip install -q -r requirements.txt"
      ],
      "metadata": {
        "colab": {
          "base_uri": "https://localhost:8080/"
        },
        "id": "Do_dUIkX6JLJ",
        "outputId": "d74a4ea9-02da-4cfb-bad1-56a03794d234"
      },
      "execution_count": 9,
      "outputs": [
        {
          "output_type": "stream",
          "name": "stdout",
          "text": [
            "\u001b[2K     \u001b[90m━━━━━━━━━━━━━━━━━━━━━━━━━━━━━━━━━━━━━━━━\u001b[0m \u001b[32m44.3/44.3 kB\u001b[0m \u001b[31m2.6 MB/s\u001b[0m eta \u001b[36m0:00:00\u001b[0m\n",
            "\u001b[2K   \u001b[90m━━━━━━━━━━━━━━━━━━━━━━━━━━━━━━━━━━━━━━━━\u001b[0m \u001b[32m9.9/9.9 MB\u001b[0m \u001b[31m67.1 MB/s\u001b[0m eta \u001b[36m0:00:00\u001b[0m\n",
            "\u001b[2K   \u001b[90m━━━━━━━━━━━━━━━━━━━━━━━━━━━━━━━━━━━━━━━━\u001b[0m \u001b[32m6.9/6.9 MB\u001b[0m \u001b[31m79.7 MB/s\u001b[0m eta \u001b[36m0:00:00\u001b[0m\n",
            "\u001b[2K   \u001b[90m━━━━━━━━━━━━━━━━━━━━━━━━━━━━━━━━━━━━━━━━\u001b[0m \u001b[32m79.1/79.1 kB\u001b[0m \u001b[31m6.1 MB/s\u001b[0m eta \u001b[36m0:00:00\u001b[0m\n",
            "\u001b[?25h"
          ]
        }
      ]
    },
    {
      "cell_type": "code",
      "source": [
        "!pip list | grep streamlit"
      ],
      "metadata": {
        "colab": {
          "base_uri": "https://localhost:8080/"
        },
        "id": "GwwLyLQE6L_m",
        "outputId": "32c7faf7-ec0d-4ad6-a16f-49b7155383a7"
      },
      "execution_count": 10,
      "outputs": [
        {
          "output_type": "stream",
          "name": "stdout",
          "text": [
            "streamlit                             1.45.0\n"
          ]
        }
      ]
    },
    {
      "cell_type": "code",
      "source": [
        "!pip install streamlit -q"
      ],
      "metadata": {
        "id": "UlrJDw9t6Oce"
      },
      "execution_count": 11,
      "outputs": []
    },
    {
      "cell_type": "code",
      "source": [
        "%%writefile Home.py\n",
        "import streamlit as st\n",
        "\n",
        "st.set_page_config(\n",
        "    page_title=\"Tugas Pertemuan 5 - Analisis Penerbangan Pesawat\",\n",
        "    layout=\"wide\"\n",
        ")\n",
        "\n",
        "st.title(\"Tugas Pertemuan 5: Aplikasi Analisis Data Pada Bulan Desember\")\n",
        "st.markdown(\"---\")\n",
        "\n",
        "st.markdown(\"\"\"\n",
        "Selamat datang di aplikasi **Streamlit** untuk menganalisis data **BTS Desember** (jumlah penumpang transportasi).\n",
        "\n",
        "### 📌 Deskripsi Tugas:\n",
        "Aplikasi ini terdiri dari **tiga tab utama**:\n",
        "- **Tabel**: Menampilkan data `BTS_Desember.csv` dalam bentuk tabel.\n",
        "- **Metrics**: Menampilkan **statistik rata-rata** dari kolom-kolom penting seperti jumlah penumpang, penumpang lokal, dan lintas.\n",
        "- **JSON**: Menyajikan data dalam format **JSON** untuk keperluan visualisasi struktural.\n",
        "\n",
        "### 📂 Dataset:\n",
        "Dataset digunakan berasal dari file:\n",
        "- `/Dataset/BTS_Desember.csv` *(pastikan path file benar saat dijalankan)*\n",
        "\n",
        "Untuk melihat hasil analisisnya, silakan buka menu **“Tugas_Pertemuan_5_Taxi”** di sidebar.\n",
        "\n",
        "---\n",
        "\n",
        "🧑‍🎓 *Tugas ini merupakan bagian dari mata kuliah Sistem Cerdas dan Pengembangan Machine Learning.*\n",
        "\"\"\")\n"
      ],
      "metadata": {
        "colab": {
          "base_uri": "https://localhost:8080/"
        },
        "id": "y0uOEKqLI2l4",
        "outputId": "431d7343-e34f-4bc8-8b68-648131edbeba"
      },
      "execution_count": 34,
      "outputs": [
        {
          "output_type": "stream",
          "name": "stdout",
          "text": [
            "Overwriting Home.py\n"
          ]
        }
      ]
    },
    {
      "cell_type": "code",
      "source": [
        "pwd"
      ],
      "metadata": {
        "colab": {
          "base_uri": "https://localhost:8080/",
          "height": 35
        },
        "id": "Glt6l27w8i6C",
        "outputId": "9da1aa7d-c510-4727-dfe0-d26e47d0d839"
      },
      "execution_count": 14,
      "outputs": [
        {
          "output_type": "execute_result",
          "data": {
            "text/plain": [
              "'/content/Pengembangan_Machine_Learning5'"
            ],
            "application/vnd.google.colaboratory.intrinsic+json": {
              "type": "string"
            }
          },
          "metadata": {},
          "execution_count": 14
        }
      ]
    },
    {
      "cell_type": "code",
      "source": [
        "!ls"
      ],
      "metadata": {
        "colab": {
          "base_uri": "https://localhost:8080/"
        },
        "id": "leKOJ9pX8k4z",
        "outputId": "d13f5222-3426-4d59-e5a4-96845befbe25"
      },
      "execution_count": 15,
      "outputs": [
        {
          "output_type": "stream",
          "name": "stdout",
          "text": [
            "requirements.txt\n"
          ]
        }
      ]
    },
    {
      "cell_type": "code",
      "source": [
        "!mkdir pages"
      ],
      "metadata": {
        "id": "Ahq2cbVR8nE7"
      },
      "execution_count": 16,
      "outputs": []
    },
    {
      "cell_type": "code",
      "source": [
        "%%writefile pages/Contoh_Pertemuan_5.py\n",
        "# Import pustaka yang diperlukan\n",
        "import streamlit as st\n",
        "import pandas as pd\n",
        "import numpy as np\n",
        "\n",
        "# Membuat DataFrame\n",
        "data = {\n",
        "    'Name': ['Alice', 'Bob', 'Charlie'],\n",
        "    'Age': [25, 30, 35],\n",
        "    'City': ['New York', 'Los Angeles', 'Chicago']\n",
        "}\n",
        "df = pd.DataFrame(data)\n",
        "\n",
        "# Menampilkan DataFrame dengan st.dataframe()\n",
        "st.write(\"Menampilkan DataFrame dengan st.dataframe()\")\n",
        "st.dataframe(df, width=700, height=300)\n",
        "\n",
        "# Menampilkan tabel menggunakan st.table()\n",
        "st.write(\"Menampilkan tabel menggunakan st.table()\")\n",
        "st.table(df)\n",
        "\n",
        "# Menampilkan tabel menggunakan st.metric()\n",
        "st.write(\"Menampilkan tabel menggunakan Metric\")\n",
        "df_metric = pd.DataFrame(np.random.randn(10, 5), columns=(\"col %d\" % i for i in range(5)))\n",
        "st.table(df_metric)\n",
        "\n",
        "# Menampilkan editor data\n",
        "st.write(\"Menampilkan tabel dengan editor data\")\n",
        "edited_df = st.data_editor(df, use_container_width=True)\n",
        "\n",
        "# Menampilkan data yang telah diedit\n",
        "st.write(\"Edited DataFrame:\")\n",
        "st.write(edited_df)\n",
        "\n",
        "# Data JSON\n",
        "st.write(\"Menampilkan data json\")\n",
        "data_json = {\n",
        "    \"name\": \"Alice\",\n",
        "    \"age\": 25,\n",
        "    \"city\": \"New York\",\n",
        "    \"employed\": True\n",
        "}\n",
        "# Menampilkan data JSON menggunakan st.json()\n",
        "st.json(data_json)\n",
        "\n",
        "# Menampilkan tabel dengan editor data untuk column config\n",
        "st.write(\"Menampilkan tabel dengan editor data untuk column config\")\n",
        "# Konfigurasi kolom menggunakan st.column_config\n",
        "df = st.data_editor(\n",
        "    df,\n",
        "    column_config={\n",
        "        'Age': st.column_config.NumberColumn(format=\"%.0f\"),  # Format angka tanpa desimal\n",
        "        'City': st.column_config.SelectboxColumn(options=[\"New York\", \"Los Angeles\", \"Chicago\"]),  # Pilihan untuk kolom City\n",
        "        'Employed': st.column_config.CheckboxColumn(),  # Kolom checkbox untuk status pekerjaan\n",
        "    }\n",
        ")\n",
        "\n",
        "# Menampilkan hasil edit data\n",
        "st.write(\"Edited DataFrame:\")\n",
        "st.write(df)"
      ],
      "metadata": {
        "colab": {
          "base_uri": "https://localhost:8080/"
        },
        "id": "V9_OXJ1R8ULE",
        "outputId": "d7f24dee-d913-47af-d82c-652404d09ab9"
      },
      "execution_count": 18,
      "outputs": [
        {
          "output_type": "stream",
          "name": "stdout",
          "text": [
            "Writing pages/Contoh_Pertemuan_5.py\n"
          ]
        }
      ]
    },
    {
      "cell_type": "code",
      "source": [
        "%%writefile pages/Latihan_Pertemuan_5.py\n",
        "import streamlit as st\n",
        "import pandas as pd\n",
        "\n",
        "# Membaca data CSV\n",
        "file_path = '/content/Pengembangan_Machine_Learning5/Dataset/Iris.csv'\n",
        "df = pd.read_csv(file_path)\n",
        "\n",
        "# Menyiapkan tab\n",
        "tabs = st.tabs([\"Tabel\", \"Metrik\", \"JSON\"])\n",
        "\n",
        "# Tab 1 - Tabel\n",
        "with tabs[0]:\n",
        "    st.header(\"Tabel Iris Dataset\")\n",
        "    st.dataframe(df)  # Lebih interaktif daripada st.table\n",
        "\n",
        "# Tab 2 - Metrik\n",
        "with tabs[1]:\n",
        "    st.header(\"Metrik Iris Dataset\")\n",
        "\n",
        "    # Metrik 1: Rata-rata Sepal Length\n",
        "    avg_sepal_length = df['SepalLengthCm'].mean()\n",
        "    st.metric(label=\"Rata-rata Sepal Length\", value=f\"{avg_sepal_length:.2f} cm\")\n",
        "\n",
        "    # Metrik 2: Rata-rata Petal Length\n",
        "    avg_petal_length = df['PetalLengthCm'].mean()\n",
        "    st.metric(label=\"Rata-rata Petal Length\", value=f\"{avg_petal_length:.2f} cm\")\n",
        "\n",
        "    # Metrik 3: Jumlah Spesies\n",
        "    species_count = df['Species'].nunique()\n",
        "    st.metric(label=\"Jumlah Spesies\", value=f\"{species_count} spesies\")\n",
        "\n",
        "# Tab 3 - JSON\n",
        "with tabs[2]:\n",
        "    st.header(\"Data Iris dalam Format JSON\")\n",
        "    st.json(df.to_dict(orient='records'))"
      ],
      "metadata": {
        "colab": {
          "base_uri": "https://localhost:8080/"
        },
        "id": "XK_-6GoP9KVj",
        "outputId": "63ed0dda-3532-4f01-f249-b435029ad7b9"
      },
      "execution_count": 19,
      "outputs": [
        {
          "output_type": "stream",
          "name": "stdout",
          "text": [
            "Writing pages/Latihan_Pertemuan_5.py\n"
          ]
        }
      ]
    },
    {
      "cell_type": "markdown",
      "source": [
        "Latihan Pertemuan 5 Dataset nutrition"
      ],
      "metadata": {
        "id": "4-tXBR8x9lio"
      }
    },
    {
      "cell_type": "code",
      "source": [
        "%%writefile pages/Tugas_Pertemuan_5_nutrition.py\n",
        "import streamlit as st\n",
        "import pandas as pd\n",
        "\n",
        "# Membaca data CSV\n",
        "file_path = '/content/Pengembangan_Machine_Learning5/Dataset/nutrition.csv'\n",
        "df = pd.read_csv(file_path)\n",
        "\n",
        "# Menampilkan nama kolom (debugging)\n",
        "st.sidebar.write(\"Kolom tersedia:\", df.columns.tolist())\n",
        "\n",
        "# Menyiapkan tab\n",
        "tabs = st.tabs([\"Tabel\", \"Metrik\", \"JSON\"])\n",
        "\n",
        "# Tab 1 - Tabel\n",
        "with tabs[0]:\n",
        "    st.header(\"Tabel Data Nutrisi Makanan dan Minuman Indonesia\")\n",
        "    st.dataframe(df)\n",
        "\n",
        "# Tab 2 - Metrik\n",
        "with tabs[1]:\n",
        "    st.header(\"Metrik Data Nutrisi\")\n",
        "    # Gunakan nama kolom yang benar dari dataset\n",
        "    avg_calories = df['calories'].mean()\n",
        "    avg_proteins = df['proteins'].mean()\n",
        "    avg_fat = df['fat'].mean()\n",
        "    avg_carb = df['carbohydrate'].mean()\n",
        "\n",
        "    st.metric(label=\"Rata-rata Kalori\", value=f\"{avg_calories:.2f} kkal\")\n",
        "    st.metric(label=\"Rata-rata Protein\", value=f\"{avg_proteins:.2f} g\")\n",
        "    st.metric(label=\"Rata-rata Lemak\", value=f\"{avg_fat:.2f} g\")\n",
        "    st.metric(label=\"Rata-rata Karbohidrat\", value=f\"{avg_carb:.2f} g\")\n",
        "\n",
        "# Tab 3 - JSON\n",
        "with tabs[2]:\n",
        "    st.header(\"Data Nutrisi dalam Format JSON\")\n",
        "    st.json(df.to_dict(orient='records'))"
      ],
      "metadata": {
        "colab": {
          "base_uri": "https://localhost:8080/"
        },
        "id": "Gs5_ZkGgCm6p",
        "outputId": "d435f6ec-27a3-4019-d850-0ee4d06168dc"
      },
      "execution_count": 20,
      "outputs": [
        {
          "output_type": "stream",
          "name": "stdout",
          "text": [
            "Writing pages/Tugas_Pertemuan_5_nutrition.py\n"
          ]
        }
      ]
    },
    {
      "cell_type": "markdown",
      "source": [
        "Tugas Pertemuan 5 Menggunakan dataset Proyek Pengembangan Machine Learning"
      ],
      "metadata": {
        "id": "-20KX7wRCyTv"
      }
    },
    {
      "cell_type": "code",
      "source": [
        "%%writefile pages/Tugas_Pertemuan_5_Taxi.py\n",
        "import streamlit as st\n",
        "import pandas as pd\n",
        "\n",
        "# Membaca data CSV\n",
        "file_path = '/content/Pengembangan_Machine_Learning5/Dataset/BTS_Desember.csv'\n",
        "df = pd.read_csv(file_path)\n",
        "\n",
        "# Menampilkan nama kolom (debugging)\n",
        "st.sidebar.write(\"Kolom tersedia:\", df.columns.tolist())\n",
        "\n",
        "# Menyiapkan tab\n",
        "tabs = st.tabs([\"Tabel\", \"Metrik\", \"JSON\"])\n",
        "\n",
        "# Tab 1 - Tabel\n",
        "with tabs[0]:\n",
        "    st.header(\"Tabel Data BTS Desember\")\n",
        "    st.dataframe(df)\n",
        "\n",
        "# Tab 2 - Metrik\n",
        "with tabs[1]:\n",
        "    st.header(\"Statistik Rata-rata BTS Desember\")\n",
        "\n",
        "    # Pastikan nama kolom disesuaikan dengan isi file kamu\n",
        "    avg_penumpang = df['JML_PNP'].mean()\n",
        "    avg_pnp_lokal = df['PNP_LOKAL'].mean()\n",
        "    avg_pnp_lintas = df['PNP_LINTAS'].mean()\n",
        "\n",
        "    st.metric(label=\"Rata-rata Penumpang\", value=f\"{avg_penumpang:,.2f}\")\n",
        "    st.metric(label=\"Rata-rata PNP Lokal\", value=f\"{avg_pnp_lokal:,.2f}\")\n",
        "    st.metric(label=\"Rata-rata PNP Lintas\", value=f\"{avg_pnp_lintas:,.2f}\")\n",
        "\n",
        "# Tab 3 - JSON\n",
        "with tabs[2]:\n",
        "    st.header(\"Data BTS Desember dalam Format JSON\")\n",
        "    st.json(df.to_dict(orient='records'))\n"
      ],
      "metadata": {
        "colab": {
          "base_uri": "https://localhost:8080/"
        },
        "id": "VWWgo6h9C6SQ",
        "outputId": "f2cb93c1-9761-48e5-ceee-a11803fa62e5"
      },
      "execution_count": 21,
      "outputs": [
        {
          "output_type": "stream",
          "name": "stdout",
          "text": [
            "Writing pages/Tugas_Pertemuan_5_Taxi.py\n"
          ]
        }
      ]
    },
    {
      "cell_type": "code",
      "source": [
        "!npm install localtunnel"
      ],
      "metadata": {
        "colab": {
          "base_uri": "https://localhost:8080/"
        },
        "id": "mtZoTBLKF7LB",
        "outputId": "eb20e49b-25ae-4803-9218-7a483bf40395"
      },
      "execution_count": 22,
      "outputs": [
        {
          "output_type": "stream",
          "name": "stdout",
          "text": [
            "\u001b[1G\u001b[0K⠙\u001b[1G\u001b[0K⠹\u001b[1G\u001b[0K⠸\u001b[1G\u001b[0K⠼\u001b[1G\u001b[0K⠴\u001b[1G\u001b[0K⠦\u001b[1G\u001b[0K⠧\u001b[1G\u001b[0K⠇\u001b[1G\u001b[0K⠏\u001b[1G\u001b[0K⠋\u001b[1G\u001b[0K⠙\u001b[1G\u001b[0K⠹\u001b[1G\u001b[0K⠸\u001b[1G\u001b[0K⠼\u001b[1G\u001b[0K⠴\u001b[1G\u001b[0K⠦\u001b[1G\u001b[0K⠧\u001b[1G\u001b[0K⠇\u001b[1G\u001b[0K⠏\u001b[1G\u001b[0K⠋\u001b[1G\u001b[0K⠙\u001b[1G\u001b[0K⠹\u001b[1G\u001b[0K⠸\u001b[1G\u001b[0K⠼\u001b[1G\u001b[0K⠴\u001b[1G\u001b[0K\n",
            "added 22 packages in 3s\n",
            "\u001b[1G\u001b[0K⠴\u001b[1G\u001b[0K\n",
            "\u001b[1G\u001b[0K⠴\u001b[1G\u001b[0K3 packages are looking for funding\n",
            "\u001b[1G\u001b[0K⠴\u001b[1G\u001b[0K  run `npm fund` for details\n",
            "\u001b[1G\u001b[0K⠴\u001b[1G\u001b[0K"
          ]
        }
      ]
    },
    {
      "cell_type": "code",
      "source": [
        "!pwd"
      ],
      "metadata": {
        "colab": {
          "base_uri": "https://localhost:8080/"
        },
        "id": "dBU15iZ_F9T-",
        "outputId": "0e35fe4f-c771-48c0-e25d-aa78b7f1fb5e"
      },
      "execution_count": 23,
      "outputs": [
        {
          "output_type": "stream",
          "name": "stdout",
          "text": [
            "/content/Pengembangan_Machine_Learning5\n"
          ]
        }
      ]
    },
    {
      "cell_type": "code",
      "source": [
        "!streamlit run /content/Pengembangan_Machine_Learning5/Home.py &>/content/Pengembangan_Machine_Learning5/logs.txt &"
      ],
      "metadata": {
        "id": "KnPsn95qGBPf"
      },
      "execution_count": 35,
      "outputs": []
    },
    {
      "cell_type": "code",
      "source": [
        "!timeout 30 cat /content/Pengembangan_Machine_Learning5/logs.txt"
      ],
      "metadata": {
        "colab": {
          "base_uri": "https://localhost:8080/"
        },
        "id": "zlsQpiLKGJYD",
        "outputId": "5e4601aa-ead8-4b37-9f42-6e118de05543"
      },
      "execution_count": 30,
      "outputs": [
        {
          "output_type": "stream",
          "name": "stdout",
          "text": [
            "Usage: streamlit run [OPTIONS] TARGET [ARGS]...\n",
            "Try 'streamlit run --help' for help.\n",
            "\n",
            "Error: Invalid value: File does not exist: /content/Pengembangan_Machine_Learning5/Home.py\n"
          ]
        }
      ]
    },
    {
      "cell_type": "code",
      "source": [
        "import requests\n",
        "requests.get('https://api.ipify.org').text"
      ],
      "metadata": {
        "colab": {
          "base_uri": "https://localhost:8080/",
          "height": 35
        },
        "id": "6AMxFcwFGMv7",
        "outputId": "c8a5b60f-898b-4de7-d73a-00df03a4e4ed"
      },
      "execution_count": 36,
      "outputs": [
        {
          "output_type": "execute_result",
          "data": {
            "text/plain": [
              "'34.169.207.8'"
            ],
            "application/vnd.google.colaboratory.intrinsic+json": {
              "type": "string"
            }
          },
          "metadata": {},
          "execution_count": 36
        }
      ]
    },
    {
      "cell_type": "code",
      "source": [
        "!npx localtunnel --port 8501"
      ],
      "metadata": {
        "colab": {
          "base_uri": "https://localhost:8080/"
        },
        "id": "bmscY9WXGO0h",
        "outputId": "5705c881-9d7b-42bc-a156-a3c4e99942d3"
      },
      "execution_count": null,
      "outputs": [
        {
          "output_type": "stream",
          "name": "stdout",
          "text": [
            "\u001b[1G\u001b[0K⠙\u001b[1G\u001b[0Kyour url is: https://sharp-showers-say.loca.lt\n"
          ]
        }
      ]
    },
    {
      "cell_type": "code",
      "source": [],
      "metadata": {
        "id": "KVsDiyQUGS1z"
      },
      "execution_count": null,
      "outputs": []
    }
  ]
}